{
  "cells": [
    {
      "cell_type": "code",
      "execution_count": 2,
      "metadata": {
        "id": "jAID8IeJd3N3"
      },
      "outputs": [],
      "source": [
        "import numpy as np\n",
        "import pandas as pd\n"
      ]
    },
    {
      "cell_type": "code",
      "execution_count": 3,
      "metadata": {
        "colab": {
          "base_uri": "https://localhost:8080/",
          "height": 35
        },
        "id": "n4XpTpoHfTaV",
        "outputId": "a25f13ca-65e2-4508-ce91-07238ec97bf9"
      },
      "outputs": [
        {
          "data": {
            "application/vnd.google.colaboratory.intrinsic+json": {
              "type": "string"
            },
            "text/plain": [
              "'/content'"
            ]
          },
          "execution_count": 3,
          "metadata": {},
          "output_type": "execute_result"
        }
      ],
      "source": [
        "pwd"
      ]
    },
    {
      "cell_type": "code",
      "execution_count": 9,
      "metadata": {
        "colab": {
          "base_uri": "https://localhost:8080/",
          "height": 206
        },
        "id": "6j0W66ype7XS",
        "outputId": "035ddb3d-546e-4640-c0b3-23a52b9aa8e8"
      },
      "outputs": [
        {
          "data": {
            "text/html": [
              "<div>\n",
              "<style scoped>\n",
              "    .dataframe tbody tr th:only-of-type {\n",
              "        vertical-align: middle;\n",
              "    }\n",
              "\n",
              "    .dataframe tbody tr th {\n",
              "        vertical-align: top;\n",
              "    }\n",
              "\n",
              "    .dataframe thead th {\n",
              "        text-align: right;\n",
              "    }\n",
              "</style>\n",
              "<table border=\"1\" class=\"dataframe\">\n",
              "  <thead>\n",
              "    <tr style=\"text-align: right;\">\n",
              "      <th></th>\n",
              "      <th>artist</th>\n",
              "      <th>song</th>\n",
              "      <th>link</th>\n",
              "      <th>text</th>\n",
              "    </tr>\n",
              "  </thead>\n",
              "  <tbody>\n",
              "    <tr>\n",
              "      <th>0</th>\n",
              "      <td>ABBA</td>\n",
              "      <td>Ahe's My Kind Of Girl</td>\n",
              "      <td>/a/abba/ahes+my+kind+of+girl_20598417.html</td>\n",
              "      <td>Look at her face, it's a wonderful face  \\nAnd...</td>\n",
              "    </tr>\n",
              "    <tr>\n",
              "      <th>1</th>\n",
              "      <td>ABBA</td>\n",
              "      <td>Andante, Andante</td>\n",
              "      <td>/a/abba/andante+andante_20002708.html</td>\n",
              "      <td>Take it easy with me, please  \\nTouch me gentl...</td>\n",
              "    </tr>\n",
              "    <tr>\n",
              "      <th>2</th>\n",
              "      <td>ABBA</td>\n",
              "      <td>As Good As New</td>\n",
              "      <td>/a/abba/as+good+as+new_20003033.html</td>\n",
              "      <td>I'll never know why I had to go  \\nWhy I had t...</td>\n",
              "    </tr>\n",
              "    <tr>\n",
              "      <th>3</th>\n",
              "      <td>ABBA</td>\n",
              "      <td>Bang</td>\n",
              "      <td>/a/abba/bang_20598415.html</td>\n",
              "      <td>Making somebody happy is a question of give an...</td>\n",
              "    </tr>\n",
              "    <tr>\n",
              "      <th>4</th>\n",
              "      <td>ABBA</td>\n",
              "      <td>Bang-A-Boomerang</td>\n",
              "      <td>/a/abba/bang+a+boomerang_20002668.html</td>\n",
              "      <td>Making somebody happy is a question of give an...</td>\n",
              "    </tr>\n",
              "  </tbody>\n",
              "</table>\n",
              "</div>"
            ],
            "text/plain": [
              "  artist                   song                                        link  \\\n",
              "0   ABBA  Ahe's My Kind Of Girl  /a/abba/ahes+my+kind+of+girl_20598417.html   \n",
              "1   ABBA       Andante, Andante       /a/abba/andante+andante_20002708.html   \n",
              "2   ABBA         As Good As New        /a/abba/as+good+as+new_20003033.html   \n",
              "3   ABBA                   Bang                  /a/abba/bang_20598415.html   \n",
              "4   ABBA       Bang-A-Boomerang      /a/abba/bang+a+boomerang_20002668.html   \n",
              "\n",
              "                                                text  \n",
              "0  Look at her face, it's a wonderful face  \\nAnd...  \n",
              "1  Take it easy with me, please  \\nTouch me gentl...  \n",
              "2  I'll never know why I had to go  \\nWhy I had t...  \n",
              "3  Making somebody happy is a question of give an...  \n",
              "4  Making somebody happy is a question of give an...  "
            ]
          },
          "execution_count": 9,
          "metadata": {},
          "output_type": "execute_result"
        }
      ],
      "source": [
        "from typing import List, Dict\n",
        "from sklearn.feature_extraction.text import TfidfVectorizer\n",
        "from sklearn.metrics.pairwise import cosine_similarity\n",
        "\n",
        "data_file_path = '/Users/mohddanishkhan/Downloads/MusicRecommendationSystem/Dataset/songdata.csv'\n",
        "\n",
        "songs = pd.read_csv(data_file_path)\n",
        "songs.head()"
      ]
    },
    {
      "cell_type": "code",
      "execution_count": 10,
      "metadata": {
        "colab": {
          "base_uri": "https://localhost:8080/",
          "height": 0
        },
        "id": "bpmZlbEugN4O",
        "outputId": "e1bb5da1-e5d7-4976-d5a8-8c3cdf3f2b79"
      },
      "outputs": [],
      "source": [
        "songs = songs.sample(n=10000).drop('link', axis=1).reset_index(drop=True)\n",
        "songs['text'] = songs['text'].str.replace(r'\\n', '')\n"
      ]
    },
    {
      "cell_type": "code",
      "execution_count": 11,
      "metadata": {
        "id": "zlpAG174gcWx"
      },
      "outputs": [],
      "source": [
        "tfidf = TfidfVectorizer(analyzer='word', stop_words='english')\n",
        "lyrics_matrix = tfidf.fit_transform(songs['text'])\n",
        "cosine_similarities = cosine_similarity(lyrics_matrix)\n"
      ]
    },
    {
      "cell_type": "code",
      "execution_count": 12,
      "metadata": {
        "id": "tiaBwD28gkt8"
      },
      "outputs": [],
      "source": [
        "similarities = {}\n",
        "for i in range(len(cosine_similarities)):\n",
        "    similar_indices = cosine_similarities[i].argsort()[:-50:-1]\n",
        "    # store in similarities each name of the 50 most similar songs.\n",
        "    # Except the first one that is the same song.\n",
        "    similarities[songs['song'].iloc[i]] = [(cosine_similarities[i][x], songs['song'][x], songs['artist'][x]) for x in similar_indices][1:]"
      ]
    },
    {
      "cell_type": "code",
      "execution_count": 14,
      "metadata": {
        "id": "6nmaDMfahAjK"
      },
      "outputs": [],
      "source": [
        "class ContentBasedRecommender:\n",
        "    def __init__(self, matrix):\n",
        "        self.matrix_similar = matrix\n",
        "\n",
        "    def _print_message(self, song, recom_song):\n",
        "        rec_items = len(recom_song)\n",
        "\n",
        "        print(f'The {rec_items} recommended songs for {song} are:')\n",
        "        for i in range(rec_items):\n",
        "            print(f\"Number {i+1}:\")\n",
        "            print(f\"{recom_song[i][1]} by {recom_song[i][2]} with {round(recom_song[i][0], 3)} similarity score\")\n",
        "            print(\"--------------------\")\n",
        "\n",
        "    def recommend(self, recommendation):\n",
        "        # Get song to find recommendations for\n",
        "        song = recommendation['song']\n",
        "        # Get number of songs to recommend\n",
        "        number_songs = recommendation['number_songs']\n",
        "        # Get the number of songs most similars from matrix similarities\n",
        "        recom_song = self.matrix_similar[song][:number_songs]\n",
        "        # print each item\n",
        "        self._print_message(song=song, recom_song=recom_song)"
      ]
    },
    {
      "cell_type": "code",
      "execution_count": 16,
      "metadata": {
        "id": "aBHmIaD8hQV3"
      },
      "outputs": [],
      "source": [
        "recommedations = ContentBasedRecommender(similarities)\n"
      ]
    },
    {
      "cell_type": "code",
      "execution_count": 20,
      "metadata": {
        "id": "EBGeFCsWhR89"
      },
      "outputs": [],
      "source": [
        "recommendation = {\n",
        "    \"song\": songs['song'].iloc[5],\n",
        "    \"number_songs\": 5\n",
        "}"
      ]
    },
    {
      "cell_type": "code",
      "execution_count": 21,
      "metadata": {
        "colab": {
          "base_uri": "https://localhost:8080/",
          "height": 0
        },
        "id": "fDKgb74FhYEY",
        "outputId": "aaccdc18-886a-4a22-ebca-90ada9470745"
      },
      "outputs": [
        {
          "name": "stdout",
          "output_type": "stream",
          "text": [
            "The 5 recommended songs for Does He Love You are:\n",
            "Number 1:\n",
            "Does He Love You by Reba Mcentire with 0.938 similarity score\n",
            "--------------------\n",
            "Number 2:\n",
            "Every Little Thing by The Beatles with 0.696 similarity score\n",
            "--------------------\n",
            "Number 3:\n",
            "How Does It Feel by Dolly Parton with 0.614 similarity score\n",
            "--------------------\n",
            "Number 4:\n",
            "Like A Rolling Stone by Michael Bolton with 0.521 similarity score\n",
            "--------------------\n",
            "Number 5:\n",
            "Does He Know? by One Direction with 0.436 similarity score\n",
            "--------------------\n"
          ]
        }
      ],
      "source": [
        "recommedations.recommend(recommendation)\n"
      ]
    },
    {
      "cell_type": "code",
      "execution_count": 25,
      "metadata": {
        "id": "GmA0VeKdhhVW"
      },
      "outputs": [],
      "source": [
        "recommendation2 = {\n",
        "    \"song\": songs['song'].iloc[10],\n",
        "    \"number_songs\": 8\n",
        "}"
      ]
    },
    {
      "cell_type": "code",
      "execution_count": 26,
      "metadata": {
        "colab": {
          "base_uri": "https://localhost:8080/",
          "height": 0
        },
        "id": "9t2aOWE8hiyR",
        "outputId": "cb3421e9-b1f7-42d0-bb01-7e2b42a40115"
      },
      "outputs": [
        {
          "name": "stdout",
          "output_type": "stream",
          "text": [
            "The 8 recommended songs for Dive In are:\n",
            "Number 1:\n",
            "Someday by Donna Summer with 0.498 similarity score\n",
            "--------------------\n",
            "Number 2:\n",
            "Someday by Carpenters with 0.467 similarity score\n",
            "--------------------\n",
            "Number 3:\n",
            "Someday At Christmas by Justin Bieber with 0.466 similarity score\n",
            "--------------------\n",
            "Number 4:\n",
            "Someday Soon by Glen Campbell with 0.395 similarity score\n",
            "--------------------\n",
            "Number 5:\n",
            "I Thought About You by Perry Como with 0.324 similarity score\n",
            "--------------------\n",
            "Number 6:\n",
            "Cold Sky by Cyndi Lauper with 0.3 similarity score\n",
            "--------------------\n",
            "Number 7:\n",
            "Someday by Nickelback with 0.297 similarity score\n",
            "--------------------\n",
            "Number 8:\n",
            "The Good Witch Of The North by Everclear with 0.277 similarity score\n",
            "--------------------\n"
          ]
        }
      ],
      "source": [
        "recommedations.recommend(recommendation2)\n"
      ]
    }
  ],
  "metadata": {
    "colab": {
      "provenance": []
    },
    "kernelspec": {
      "display_name": "Python 3",
      "language": "python",
      "name": "python3"
    },
    "language_info": {
      "codemirror_mode": {
        "name": "ipython",
        "version": 3
      },
      "file_extension": ".py",
      "mimetype": "text/x-python",
      "name": "python",
      "nbconvert_exporter": "python",
      "pygments_lexer": "ipython3",
      "version": "3.11.5"
    },
    "vscode": {
      "interpreter": {
        "hash": "b0fa6594d8f4cbf19f97940f81e996739fb7646882a419484c72d19e05852a7e"
      }
    }
  },
  "nbformat": 4,
  "nbformat_minor": 0
}
